{
 "cells": [
  {
   "cell_type": "markdown",
   "metadata": {
    "ExecuteTime": {
     "end_time": "2020-02-05T17:56:18.818219Z",
     "start_time": "2020-02-05T17:56:18.810698Z"
    }
   },
   "source": [
    "## Exercise 1\n",
    "In Orange County, 51% of the adults are males. (It doesn't take too much advanced\n",
    "mathematics to deduce that the other 49% are females.) One adult is randomly selected\n",
    "for a survey involving credit card usage.\n",
    "\n",
    "- **(a)** Find the probability that the selected person is a male.\n",
    "\n",
    "- **(b)** It is later learned that the selected survey subject was smoking a cigar. Also, 9.5% of males smoke cigars, whereas 1.7% of females smoke cigars (based on data from the Substance Abuse and Mental Health Services Administration). Use this additional information to find the probability that the cigar−smoking respondent is a male\n",
    "\n",
    "Use following notation:\n",
    "M = male <br>\n",
    "F = female <br>\n",
    "C = cigar smoker<br>\n",
    "NC = not a cigar smoker<br>\n"
   ]
  },
  {
   "cell_type": "code",
   "execution_count": 63,
   "metadata": {},
   "outputs": [
    {
     "name": "stdout",
     "output_type": "stream",
     "text": [
      "M: 51.07899999999999\n",
      "F: 48.921\n",
      "Probability of male smoker: 4.956\n",
      "Probability of female smoker: 0.8099999999999999\n",
      "Probability someone smokes cigars: 5.766%\n",
      "Probability someone does not smoke: 94.234%\n",
      "Probability they are male given they smoke cigars: 85.95213319458898%\n"
     ]
    }
   ],
   "source": [
    "import numpy as np\n",
    "\n",
    "# number of runs\n",
    "n_runs = 100000\n",
    "\n",
    "M = 0\n",
    "F = 0\n",
    "M_C = 0\n",
    "F_C = 0\n",
    "C = 0\n",
    "NC = 0\n",
    "\n",
    "for _ in range(n_runs):\n",
    "    if np.random.random() < 0.51:\n",
    "        # male\n",
    "        M += 1\n",
    "        \n",
    "        # smokes cigar\n",
    "        if np.random.random() < 0.095:\n",
    "            # He Smokes\n",
    "            M_C += 1\n",
    "            C += 1\n",
    "        else:\n",
    "            NC +=1\n",
    "    \n",
    "    else:\n",
    "        F += 1\n",
    "        # Female smokes cigar\n",
    "        if np.random.random() < 0.017:\n",
    "            F_C += 1\n",
    "            C += 1\n",
    "        else:\n",
    "            NC += 1\n",
    "\n",
    "            \n",
    "# Probability of Male or Female    \n",
    "P_M = M / n_runs * 100\n",
    "P_F = F / n_runs * 100\n",
    "print(\"M:\", P_M)\n",
    "print(\"F:\", P_F)\n",
    "\n",
    "# Probability of male vs female cigar smokers\n",
    "PF_C = F_C / n_runs * 100\n",
    "PM_C = M_C / n_runs * 100\n",
    "print(\"Probability of male smoker:\", PM_C)\n",
    "print(\"Probability of female smoker:\", PF_C)\n",
    "\n",
    "# Probability of smokers vs non-smokers\n",
    "PC = C / n_runs * 100\n",
    "PNC = NC / n_runs * 100\n",
    "print(f'Probability someone smokes cigars: {PC}%')\n",
    "print(f'Probability someone does not smoke: {PNC}%')\n",
    "\n",
    "# probability of male given they were smoking a cigar\n",
    "P_CIGAR_MALE = PM_C / PC * 100\n",
    "print(f'Probability they are male given they smoke cigars: {P_CIGAR_MALE}%' )"
   ]
  },
  {
   "cell_type": "code",
   "execution_count": 52,
   "metadata": {},
   "outputs": [
    {
     "data": {
      "text/plain": [
       "85.32934131736528"
      ]
     },
     "execution_count": 52,
     "metadata": {},
     "output_type": "execute_result"
    }
   ],
   "source": [
    "M = 0.51\n",
    "F = 0.49\n",
    "\n",
    "M_C = 0.095\n",
    "F_C = 0.017\n",
    "C = (M * M_C) + (F * F_C)\n",
    "NC = 1 - C\n",
    "\n",
    "# Probability selected person is a male = 51%\n",
    "\n",
    "# Probability selected person is a male given that they were smoking a cigar\n",
    "# P(M | C) = P(M)P(C|M) / P(C)\n",
    "\n",
    "(M * M_C)/C *100"
   ]
  },
  {
   "cell_type": "code",
   "execution_count": null,
   "metadata": {},
   "outputs": [],
   "source": []
  },
  {
   "cell_type": "markdown",
   "metadata": {
    "ExecuteTime": {
     "end_time": "2020-02-05T17:56:20.532960Z",
     "start_time": "2020-02-05T17:56:20.525450Z"
    }
   },
   "source": [
    "# Exercise 2\n",
    "\n",
    "A diagnostic test has a probability 0.95 of giving a positive result when applied to a person suffering\n",
    "from a certain disease, and a probability 0.10 of giving a (false) positive when applied to a non-sufferer. It is\n",
    "estimated that 0.5 % of the population are sufferers. Suppose that the test is now administered to a person about\n",
    "whom we have no relevant information relating to the disease (apart from the fact that he/she comes from this\n",
    "population). \n",
    "\n",
    "Calculate the following probabilities:\n",
    "- **(a)** that the test result will be positive;\n",
    "- **(b)** that, given a positive result, the person is a sufferer;\n",
    "- **(c)** that, given a negative result, the person is a non-sufferer;\n",
    "- **(d)** that the person will be misclassified.\n",
    "\n",
    "Use following notation:\n",
    "\n",
    "T = test positive <br>\n",
    "NT = test negative<br>\n",
    "S = sufferer<br>\n",
    "NS = non-sufferer<br>\n",
    "M = misclassified<br>\n",
    "\n",
    "Solve it by two approaches:\n",
    "1. Arithmetically\n",
    "2. By simulation"
   ]
  },
  {
   "cell_type": "markdown",
   "metadata": {},
   "source": [
    "###  1. Arithmetically"
   ]
  },
  {
   "cell_type": "raw",
   "metadata": {},
   "source": [
    "- P(positive and correct) = .95   - Positive test and afflicted\n",
    "- P(positive and incorrect) = .1  - Positive test and healthy\n",
    "- P(negative and incorrect) = .05 - Negative test and afflicted\n",
    "- P(negative and correct) = .9    - Negative test and healthy\n",
    "\n",
    "- P(afflicted) = .005\n",
    "- P(not afflicted) = .995\n",
    "\n",
    "a.\n",
    "> P(positive test) = (.95 * .005) + (.995 * .1)\n",
    "\n",
    ">P(negative test) = (.05 * .005) + (.9 * .995)\n",
    "\n",
    "b.\n",
    ">                                P(afflicted) * P(positive test | afflicted)\n",
    ">P(afflicted | positive test) = -----------------------------------------------------\n",
    ">                                           P(positive test)\n",
    "\n",
    "c.\n",
    ">                               P(healthy) * P(negative test | healthy)\n",
    ">P(healthy | negative test) = ------------------------------------------------------\n",
    ">                                           P(negative test)\n",
    "\n",
    "d.\n",
    "P(misclassified) = P(Healthy | positve test) + P(afflicted | negative test)"
   ]
  },
  {
   "cell_type": "code",
   "execution_count": 87,
   "metadata": {},
   "outputs": [
    {
     "name": "stdout",
     "output_type": "stream",
     "text": [
      "a. Probability of Positive Tests: 10.425 %\n",
      "b. Probability of being a sufferer given a positive test: 4.5563549160671455%\n",
      "c. Probability of being healthy given a negative test: 99.97209042701647%\n",
      "c. The probability of an incorrect test: 95.47155465691638% \n",
      "NO:  0.8957499999999999\n"
     ]
    }
   ],
   "source": [
    "PC = .95\n",
    "PI = .1\n",
    "NI = .05\n",
    "NC = .9\n",
    "\n",
    "AFFLICTED = .005\n",
    "HEALTHY = .995\n",
    "\n",
    "\n",
    "# a. Positive test\n",
    "\n",
    "YES = (PC * AFFLICTED) + (PI * HEALTHY)\n",
    "print(f'a. Probability of Positive Tests: {YES * 100} %')\n",
    "\n",
    "NO = (NI * AFFLICTED) + (NC * HEALTHY)\n",
    "\n",
    "# b. Afflicted given a positive test\n",
    "AFFLICTED_YES = (AFFLICTED * PC) / YES * 100\n",
    "print(f'b. Probability of being a sufferer given a positive test: {AFFLICTED_YES}%')\n",
    "\n",
    "\n",
    "# c. Healthy given a negative test\n",
    "HEALTHY_NO = (HEALTHY * NC) / NO * 100\n",
    "print(f'c. Probability of being healthy given a negative test: {HEALTHY_NO}%')\n",
    "\n",
    "# d. Person would receive an incorrect test\n",
    "AFFLICTED_NO = (AFFLICTED * NI) / NO\n",
    "HEALTHY_YES = (HEALTHY * PI) / YES\n",
    "\n",
    "print(f'c. The probability of an incorrect test: {(AFFLICTED_NO + HEALTHY_YES) * 100}% ')\n",
    "\n",
    "print('Negative Test: ', NO)"
   ]
  },
  {
   "cell_type": "markdown",
   "metadata": {},
   "source": [
    "### 2. By Simulation"
   ]
  },
  {
   "cell_type": "code",
   "execution_count": 90,
   "metadata": {},
   "outputs": [
    {
     "name": "stdout",
     "output_type": "stream",
     "text": [
      "Probability of positive test: 10.4046\n",
      "Probability of negative test: 89.5954\n",
      "Probability of sufferer: 0.5073\n",
      "Probability of non-sufferer? 99.4927\n",
      "Probability of misclassified: 9.9487\n"
     ]
    }
   ],
   "source": [
    "import numpy as np\n",
    "\n",
    "# Number of runs\n",
    "n_runs = 1000000\n",
    "\n",
    "T = 0   # test positive\n",
    "NT = 0  # test negative\n",
    "S = 0   # sufferer\n",
    "NS = 0  # non-sufferer\n",
    "M = 0   # misclassified\n",
    "\n",
    "\n",
    "for _ in range(n_runs):\n",
    "    \n",
    "    # Afflicted\n",
    "    if np.random.random() < .005:\n",
    "        # This person is afflicted - sufferer\n",
    "        S += 1\n",
    "        \n",
    "        if np.random.random() < 0.95:\n",
    "            # This afflicted (sufferer) person tests positive\n",
    "            T += 1\n",
    "            \n",
    "        else:\n",
    "            # This afflicted (sufferer) person tests negative - misclassified\n",
    "            NT += 1\n",
    "            M += 1\n",
    "            \n",
    "    else:\n",
    "        # This person is healthy - non-sufferer\n",
    "        NS += 1\n",
    "        \n",
    "        if np.random.random() < .9:\n",
    "            # This non-sufferer correctly tests negative\n",
    "            NT += 1\n",
    "        \n",
    "        else:\n",
    "            # This non-sufferer incorrectly tests positive\n",
    "            T += 1\n",
    "            M += 1\n",
    "            \n",
    "\n",
    "print('Probability of positive test:', T/n_runs*100)\n",
    "print('Probability of negative test:', NT/n_runs*100)\n",
    "print('Probability of sufferer:', S/n_runs*100)\n",
    "print('Probability of non-sufferer?', NS/n_runs*100)\n",
    "print('Probability of misclassified:', M/n_runs*100)\n"
   ]
  }
 ],
 "metadata": {
  "kernelspec": {
   "display_name": "Python 3",
   "language": "python",
   "name": "python3"
  },
  "language_info": {
   "codemirror_mode": {
    "name": "ipython",
    "version": 3
   },
   "file_extension": ".py",
   "mimetype": "text/x-python",
   "name": "python",
   "nbconvert_exporter": "python",
   "pygments_lexer": "ipython3",
   "version": "3.8.3"
  },
  "toc": {
   "base_numbering": 1,
   "nav_menu": {},
   "number_sections": true,
   "sideBar": true,
   "skip_h1_title": false,
   "title_cell": "Table of Contents",
   "title_sidebar": "Contents",
   "toc_cell": false,
   "toc_position": {},
   "toc_section_display": true,
   "toc_window_display": false
  },
  "varInspector": {
   "cols": {
    "lenName": 16,
    "lenType": 16,
    "lenVar": 40
   },
   "kernels_config": {
    "python": {
     "delete_cmd_postfix": "",
     "delete_cmd_prefix": "del ",
     "library": "var_list.py",
     "varRefreshCmd": "print(var_dic_list())"
    },
    "r": {
     "delete_cmd_postfix": ") ",
     "delete_cmd_prefix": "rm(",
     "library": "var_list.r",
     "varRefreshCmd": "cat(var_dic_list()) "
    }
   },
   "types_to_exclude": [
    "module",
    "function",
    "builtin_function_or_method",
    "instance",
    "_Feature"
   ],
   "window_display": false
  }
 },
 "nbformat": 4,
 "nbformat_minor": 4
}
