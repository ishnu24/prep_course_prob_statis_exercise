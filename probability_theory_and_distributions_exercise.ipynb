{
 "cells": [
  {
   "cell_type": "code",
   "execution_count": 7,
   "metadata": {
    "ExecuteTime": {
     "end_time": "2020-02-05T17:54:42.062131Z",
     "start_time": "2020-02-05T17:54:41.626763Z"
    }
   },
   "outputs": [],
   "source": [
    "# import numpy\n",
    "import numpy as np\n",
    "\n",
    "# import matplotlib.pyplot\n",
    "import matplotlib.pyplot as plt\n",
    "\n",
    "# import Counter\n",
    "from collections import Counter\n",
    "\n",
    "# use style 'fivethirtyeight' (optional)\n",
    "plt.style.use('fivethirtyeight')"
   ]
  },
  {
   "cell_type": "markdown",
   "metadata": {
    "ExecuteTime": {
     "end_time": "2020-02-05T17:54:42.113199Z",
     "start_time": "2020-02-05T17:54:42.101587Z"
    }
   },
   "source": [
    "#### Create function `perform_bernouli_trial` with parameters n and p\n",
    "\n",
    "PARAMS:\n",
    "- n (int) - number of trials\n",
    "- p (float) - probability of success\n",
    "\n",
    "RETURNS:\n",
    "- n_success (int) - number of successes"
   ]
  },
  {
   "cell_type": "code",
   "execution_count": 39,
   "metadata": {},
   "outputs": [],
   "source": [
    "def perform_bernoulli_trials(n,p):\n",
    "    return np.random.binomial(n,p)"
   ]
  },
  {
   "cell_type": "code",
   "execution_count": null,
   "metadata": {},
   "outputs": [],
   "source": []
  },
  {
   "cell_type": "markdown",
   "metadata": {
    "ExecuteTime": {
     "end_time": "2020-02-05T17:54:42.610756Z",
     "start_time": "2020-02-05T17:54:42.602316Z"
    }
   },
   "source": [
    "#### Use function `perform_bernoulli_trials` with inputs n = 100, p = 0.5"
   ]
  },
  {
   "cell_type": "code",
   "execution_count": 40,
   "metadata": {},
   "outputs": [
    {
     "data": {
      "text/plain": [
       "54"
      ]
     },
     "execution_count": 40,
     "metadata": {},
     "output_type": "execute_result"
    }
   ],
   "source": [
    "perform_bernoulli_trials(100, .5)"
   ]
  },
  {
   "cell_type": "code",
   "execution_count": null,
   "metadata": {},
   "outputs": [],
   "source": []
  },
  {
   "cell_type": "markdown",
   "metadata": {
    "ExecuteTime": {
     "end_time": "2020-02-05T17:54:43.020097Z",
     "start_time": "2020-02-05T17:54:42.962800Z"
    }
   },
   "source": [
    "#### Call function _perform_bernoulli_trials_ 1000-times with same parameters as before and store the result in `successes_list`"
   ]
  },
  {
   "cell_type": "code",
   "execution_count": 41,
   "metadata": {},
   "outputs": [],
   "source": [
    "successes_list = [perform_bernoulli_trials(100, .5) for i in range(1000)]\n"
   ]
  },
  {
   "cell_type": "code",
   "execution_count": null,
   "metadata": {},
   "outputs": [],
   "source": []
  },
  {
   "cell_type": "markdown",
   "metadata": {
    "ExecuteTime": {
     "end_time": "2020-02-05T17:54:43.296477Z",
     "start_time": "2020-02-05T17:54:43.289959Z"
    }
   },
   "source": [
    "#### Count occurence of each number from `successes_list` using Counter and store the result in `count_occurence`\n",
    "\n",
    "You can find for more info about Counter [**here**](https://docs.python.org/2/library/collections.html#collections.Counter)."
   ]
  },
  {
   "cell_type": "code",
   "execution_count": 42,
   "metadata": {},
   "outputs": [
    {
     "data": {
      "text/plain": [
       "Counter({48: 83,\n",
       "         50: 68,\n",
       "         58: 23,\n",
       "         63: 2,\n",
       "         49: 73,\n",
       "         51: 74,\n",
       "         45: 49,\n",
       "         54: 52,\n",
       "         41: 17,\n",
       "         59: 14,\n",
       "         56: 44,\n",
       "         47: 71,\n",
       "         43: 34,\n",
       "         36: 1,\n",
       "         40: 11,\n",
       "         52: 81,\n",
       "         53: 68,\n",
       "         55: 57,\n",
       "         33: 1,\n",
       "         57: 33,\n",
       "         37: 3,\n",
       "         46: 65,\n",
       "         44: 28,\n",
       "         42: 19,\n",
       "         60: 7,\n",
       "         61: 9,\n",
       "         62: 1,\n",
       "         39: 3,\n",
       "         38: 5,\n",
       "         64: 2,\n",
       "         65: 1,\n",
       "         35: 1})"
      ]
     },
     "execution_count": 42,
     "metadata": {},
     "output_type": "execute_result"
    }
   ],
   "source": [
    "count_occurence = Counter(successes_list)\n",
    "count_occurence"
   ]
  },
  {
   "cell_type": "code",
   "execution_count": null,
   "metadata": {},
   "outputs": [],
   "source": []
  },
  {
   "cell_type": "markdown",
   "metadata": {
    "ExecuteTime": {
     "end_time": "2020-02-05T17:54:43.571225Z",
     "start_time": "2020-02-05T17:54:43.568147Z"
    }
   },
   "source": [
    "#### Count the probability for each number from `count_occurence` and store the result in `probas`\n"
   ]
  },
  {
   "cell_type": "code",
   "execution_count": 43,
   "metadata": {},
   "outputs": [
    {
     "data": {
      "text/plain": [
       "[0.083,\n",
       " 0.068,\n",
       " 0.023,\n",
       " 0.002,\n",
       " 0.073,\n",
       " 0.074,\n",
       " 0.049,\n",
       " 0.052,\n",
       " 0.017,\n",
       " 0.014,\n",
       " 0.044,\n",
       " 0.071,\n",
       " 0.034,\n",
       " 0.001,\n",
       " 0.011,\n",
       " 0.081,\n",
       " 0.068,\n",
       " 0.057,\n",
       " 0.001,\n",
       " 0.033,\n",
       " 0.003,\n",
       " 0.065,\n",
       " 0.028,\n",
       " 0.019,\n",
       " 0.007,\n",
       " 0.009,\n",
       " 0.001,\n",
       " 0.003,\n",
       " 0.005,\n",
       " 0.002,\n",
       " 0.001,\n",
       " 0.001]"
      ]
     },
     "execution_count": 43,
     "metadata": {},
     "output_type": "execute_result"
    }
   ],
   "source": [
    "probas = [count_occurence[val]/1000 for val in count_occurence]\n",
    "probas"
   ]
  },
  {
   "cell_type": "code",
   "execution_count": null,
   "metadata": {},
   "outputs": [],
   "source": []
  },
  {
   "cell_type": "markdown",
   "metadata": {},
   "source": [
    "Below you have some information about how to do plots in Python. We will be covering all of this during the bootcamp. But you can find these basics here so we can visualize the distributions."
   ]
  },
  {
   "cell_type": "code",
   "execution_count": 44,
   "metadata": {
    "ExecuteTime": {
     "end_time": "2020-02-05T17:54:44.056628Z",
     "start_time": "2020-02-05T17:54:43.850076Z"
    }
   },
   "outputs": [
    {
     "data": {
      "image/png": "[encoded data removed]",
      "text/plain": [
       "<Figure size 432x288 with 1 Axes>"
      ]
     },
     "metadata": {},
     "output_type": "display_data"
    }
   ],
   "source": [
    "# plot distribution (PMF) of 'succes_list'\n",
    "plt.scatter(x=count_occurence.keys(), y=probas)\n",
    "plt.xlabel('number of succeess out of 100')\n",
    "plt.ylabel('probability')\n",
    "# Show the plot\n",
    "plt.show()"
   ]
  },
  {
   "cell_type": "markdown",
   "metadata": {
    "ExecuteTime": {
     "end_time": "2020-02-05T17:54:44.112264Z",
     "start_time": "2020-02-05T17:54:44.096570Z"
    }
   },
   "source": [
    "#### Generate 100000 numbers from uniform distribution with parameters a = 1, b = 6\n"
   ]
  },
  {
   "cell_type": "code",
   "execution_count": 33,
   "metadata": {},
   "outputs": [],
   "source": [
    "a = 1\n",
    "b = 6\n",
    "size = 100000\n",
    "samples = np.random.uniform(a, b, size)"
   ]
  },
  {
   "cell_type": "code",
   "execution_count": null,
   "metadata": {},
   "outputs": [],
   "source": []
  },
  {
   "cell_type": "code",
   "execution_count": 3,
   "metadata": {
    "ExecuteTime": {
     "end_time": "2020-02-05T17:54:44.515039Z",
     "start_time": "2020-02-05T17:54:44.330746Z"
    },
    "collapsed": true,
    "jupyter": {
     "outputs_hidden": true
    }
   },
   "outputs": [
    {
     "ename": "NameError",
     "evalue": "name 'plt' is not defined",
     "output_type": "error",
     "traceback": [
      "\u001b[0;31m---------------------------------------------------------------------------\u001b[0m",
      "\u001b[0;31mNameError\u001b[0m                                 Traceback (most recent call last)",
      "\u001b[0;32m<ipython-input-3-96137867e4bb>\u001b[0m in \u001b[0;36m<module>\u001b[0;34m\u001b[0m\n\u001b[1;32m      1\u001b[0m \u001b[0;31m# plot histogram of uniform distribution with paramsdensity=True, bins=6\u001b[0m\u001b[0;34m\u001b[0m\u001b[0;34m\u001b[0m\u001b[0;34m\u001b[0m\u001b[0m\n\u001b[0;32m----> 2\u001b[0;31m \u001b[0mplt\u001b[0m\u001b[0;34m.\u001b[0m\u001b[0mhist\u001b[0m\u001b[0;34m(\u001b[0m\u001b[0muniform\u001b[0m\u001b[0;34m,\u001b[0m \u001b[0mdensity\u001b[0m\u001b[0;34m=\u001b[0m\u001b[0;32mTrue\u001b[0m\u001b[0;34m,\u001b[0m \u001b[0mbins\u001b[0m\u001b[0;34m=\u001b[0m\u001b[0;36m6\u001b[0m\u001b[0;34m)\u001b[0m\u001b[0;34m\u001b[0m\u001b[0;34m\u001b[0m\u001b[0m\n\u001b[0m\u001b[1;32m      3\u001b[0m \u001b[0mplt\u001b[0m\u001b[0;34m.\u001b[0m\u001b[0mylabel\u001b[0m\u001b[0;34m(\u001b[0m\u001b[0;34m'density'\u001b[0m\u001b[0;34m)\u001b[0m\u001b[0;34m\u001b[0m\u001b[0;34m\u001b[0m\u001b[0m\n\u001b[1;32m      4\u001b[0m \u001b[0mplt\u001b[0m\u001b[0;34m.\u001b[0m\u001b[0mxlabel\u001b[0m\u001b[0;34m(\u001b[0m\u001b[0;34m'value'\u001b[0m\u001b[0;34m)\u001b[0m\u001b[0;34m\u001b[0m\u001b[0;34m\u001b[0m\u001b[0m\n\u001b[1;32m      5\u001b[0m \u001b[0mplt\u001b[0m\u001b[0;34m.\u001b[0m\u001b[0mshow\u001b[0m\u001b[0;34m(\u001b[0m\u001b[0;34m)\u001b[0m\u001b[0;34m\u001b[0m\u001b[0;34m\u001b[0m\u001b[0m\n",
      "\u001b[0;31mNameError\u001b[0m: name 'plt' is not defined"
     ]
    }
   ],
   "source": []
  },
  {
   "cell_type": "markdown",
   "metadata": {
    "ExecuteTime": {
     "end_time": "2020-02-05T17:54:44.583762Z",
     "start_time": "2020-02-05T17:54:44.555162Z"
    }
   },
   "source": [
    "#### Check the mean of uniform data (using NumPy)"
   ]
  },
  {
   "cell_type": "code",
   "execution_count": 34,
   "metadata": {},
   "outputs": [
    {
     "data": {
      "text/plain": [
       "3.5028519980343096"
      ]
     },
     "execution_count": 34,
     "metadata": {},
     "output_type": "execute_result"
    }
   ],
   "source": [
    "np.mean(samples)"
   ]
  },
  {
   "cell_type": "code",
   "execution_count": null,
   "metadata": {},
   "outputs": [],
   "source": []
  },
  {
   "cell_type": "markdown",
   "metadata": {
    "ExecuteTime": {
     "end_time": "2020-02-05T17:54:44.758510Z",
     "start_time": "2020-02-05T17:54:44.752087Z"
    }
   },
   "source": [
    "#### Generate 100000 numbers from exponential distribution with parameter beta = 0.5"
   ]
  },
  {
   "cell_type": "code",
   "execution_count": 35,
   "metadata": {},
   "outputs": [],
   "source": [
    "beta = 0.5\n",
    "size = 100000\n",
    "samples = np.random.exponential(beta, size)"
   ]
  },
  {
   "cell_type": "code",
   "execution_count": null,
   "metadata": {},
   "outputs": [],
   "source": []
  },
  {
   "cell_type": "markdown",
   "metadata": {
    "ExecuteTime": {
     "end_time": "2020-02-05T17:54:45.134091Z",
     "start_time": "2020-02-05T17:54:44.956351Z"
    }
   },
   "source": [
    "#### Plot histogram of exponential distribution with params `density=True`, `bins=100`\n"
   ]
  },
  {
   "cell_type": "code",
   "execution_count": 37,
   "metadata": {},
   "outputs": [
    {
     "data": {
      "image/png": "[encoded data removed]",
      "text/plain": [
       "<Figure size 432x288 with 1 Axes>"
      ]
     },
     "metadata": {},
     "output_type": "display_data"
    }
   ],
   "source": [
    "plt.hist(samples, density=True, histtype=\"stepfilled\", bins=100)\n",
    "plt.xlim(-0.01, 3)\n",
    "plt.show()"
   ]
  },
  {
   "cell_type": "code",
   "execution_count": null,
   "metadata": {},
   "outputs": [],
   "source": []
  },
  {
   "cell_type": "markdown",
   "metadata": {
    "ExecuteTime": {
     "end_time": "2020-02-05T17:54:45.187080Z",
     "start_time": "2020-02-05T17:54:45.171406Z"
    }
   },
   "source": [
    "#### Check the mean of exponential data"
   ]
  },
  {
   "cell_type": "code",
   "execution_count": 38,
   "metadata": {},
   "outputs": [
    {
     "data": {
      "text/plain": [
       "0.5008408377643738"
      ]
     },
     "execution_count": 38,
     "metadata": {},
     "output_type": "execute_result"
    }
   ],
   "source": [
    "np.mean(samples)"
   ]
  },
  {
   "cell_type": "code",
   "execution_count": null,
   "metadata": {},
   "outputs": [],
   "source": []
  }
 ],
 "metadata": {
  "kernelspec": {
   "display_name": "Python 3",
   "language": "python",
   "name": "python3"
  },
  "language_info": {
   "codemirror_mode": {
    "name": "ipython",
    "version": 3
   },
   "file_extension": ".py",
   "mimetype": "text/x-python",
   "name": "python",
   "nbconvert_exporter": "python",
   "pygments_lexer": "ipython3",
   "version": "3.8.3"
  },
  "toc": {
   "base_numbering": 1,
   "nav_menu": {},
   "number_sections": true,
   "sideBar": true,
   "skip_h1_title": false,
   "title_cell": "Table of Contents",
   "title_sidebar": "Contents",
   "toc_cell": false,
   "toc_position": {},
   "toc_section_display": true,
   "toc_window_display": false
  },
  "varInspector": {
   "cols": {
    "lenName": 16,
    "lenType": 16,
    "lenVar": 40
   },
   "kernels_config": {
    "python": {
     "delete_cmd_postfix": "",
     "delete_cmd_prefix": "del ",
     "library": "var_list.py",
     "varRefreshCmd": "print(var_dic_list())"
    },
    "r": {
     "delete_cmd_postfix": ") ",
     "delete_cmd_prefix": "rm(",
     "library": "var_list.r",
     "varRefreshCmd": "cat(var_dic_list()) "
    }
   },
   "types_to_exclude": [
    "module",
    "function",
    "builtin_function_or_method",
    "instance",
    "_Feature"
   ],
   "window_display": false
  }
 },
 "nbformat": 4,
 "nbformat_minor": 4
}
